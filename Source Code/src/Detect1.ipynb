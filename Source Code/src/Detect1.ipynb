{
 "cells": [
  {
   "cell_type": "code",
   "execution_count": 6,
   "id": "f58ee75f",
   "metadata": {},
   "outputs": [
    {
     "name": "stdout",
     "output_type": "stream",
     "text": [
      "Recognized: \"word\"\n",
      "Probability: 0.9513834714889526\n"
     ]
    }
   ],
   "source": [
    "import argparse\n",
    "import json\n",
    "from typing import Tuple, List\n",
    "\n",
    "import cv2\n",
    "import editdistance\n",
    "from path import Path\n",
    "\n",
    "from dataloader_iam import DataLoaderIAM, Batch\n",
    "from model import Model, DecoderType\n",
    "from preprocessor import Preprocessor\n",
    "import tensorflow as tf\n",
    "\n",
    "\n",
    "class FilePaths:\n",
    "    \"\"\"Filenames and paths to data.\"\"\"\n",
    "    fn_char_list = '../model/charList.txt'\n",
    "    fn_summary = '../model/summary.json'\n",
    "    fn_corpus = '../data/corpus.txt'\n",
    "\n",
    "\n",
    "def get_img_height() -> int:\n",
    "    \"\"\"Fixed height for NN.\"\"\"\n",
    "    return 32\n",
    "\n",
    "\n",
    "def get_img_size(line_mode: bool = False) -> Tuple[int, int]:\n",
    "    \"\"\"Height is fixed for NN, width is set according to training mode (single words or text lines).\"\"\"\n",
    "    if line_mode:\n",
    "        return 256, get_img_height()\n",
    "    return 128, get_img_height()\n",
    "\n",
    "\n",
    "def write_summary(average_train_loss: List[float], char_error_rates: List[float], word_accuracies: List[float]) -> None:\n",
    "    \"\"\"Writes training summary file for NN.\"\"\"\n",
    "    with open(FilePaths.fn_summary, 'w') as f:\n",
    "        json.dump({'averageTrainLoss': average_train_loss, 'charErrorRates': char_error_rates, 'wordAccuracies': word_accuracies}, f)\n",
    "\n",
    "\n",
    "def char_list_from_file() -> List[str]:\n",
    "    with open(FilePaths.fn_char_list) as f:\n",
    "        return list(f.read())\n",
    "\n",
    "\n",
    "\n",
    "def infer(model: Model, fn_img: Path) -> None:\n",
    "    \"\"\"Recognizes text in image provided by file path.\"\"\"\n",
    "    img = cv2.imread(fn_img, cv2.IMREAD_GRAYSCALE)\n",
    "    assert img is not None\n",
    "\n",
    "    preprocessor = Preprocessor(get_img_size(), dynamic_width=True, padding=16)\n",
    "    img = preprocessor.process_img(img)\n",
    "\n",
    "    batch = Batch([img], None, 1)\n",
    "    recognized, probability = model.infer_batch(batch, True)\n",
    "    print(f'Recognized: \"{recognized[0]}\"')\n",
    "    print(f'Probability: {probability[0]}')\n",
    "    return recognized[0]\n",
    "\n",
    "\n",
    "\n",
    "def main():\n",
    "    \"\"\"Main function.\"\"\"\n",
    "\n",
    "    # parse arguments and set CTC decoder\n",
    "    tf.compat.v1.reset_default_graph()\n",
    "\n",
    "\n",
    "    args_mode='infer'\n",
    "    img_file='../data/word.png'\n",
    "    args_decoder='bestpath'\n",
    "    args_dump='store_true'\n",
    "\n",
    "    decoder_mapping = {'bestpath': DecoderType.BestPath,\n",
    "                       'beamsearch': DecoderType.BeamSearch,\n",
    "                       'wordbeamsearch': DecoderType.WordBeamSearch}\n",
    "    decoder_type = decoder_mapping[args_decoder]\n",
    "    model = Model(char_list_from_file(), decoder_type, must_restore=False)\n",
    "    from IPython.display import clear_output\n",
    "    clear_output()\n",
    "    infer(model, img_file)\n",
    "\n",
    "\n",
    "if __name__ == '__main__':\n",
    "    main()\n"
   ]
  },
  {
   "cell_type": "code",
   "execution_count": 1,
   "id": "42f9a36c",
   "metadata": {},
   "outputs": [
    {
     "name": "stdout",
     "output_type": "stream",
     "text": [
      "2.8.0\n"
     ]
    }
   ],
   "source": [
    "import keras\n",
    "print(keras.__version__)"
   ]
  },
  {
   "cell_type": "code",
   "execution_count": 2,
   "id": "626a1d9c",
   "metadata": {},
   "outputs": [
    {
     "name": "stdout",
     "output_type": "stream",
     "text": [
      "2.8.0\n"
     ]
    }
   ],
   "source": [
    "import tensorflow\n",
    "print(tensorflow.__version__)"
   ]
  },
  {
   "cell_type": "code",
   "execution_count": 1,
   "id": "5ae18f8d",
   "metadata": {},
   "outputs": [
    {
     "name": "stdout",
     "output_type": "stream",
     "text": [
      "Requirement already satisfied: flask in c:\\users\\greeshmanth\\anaconda3\\lib\\site-packages (1.1.2)\n",
      "Requirement already satisfied: Jinja2>=2.10.1 in c:\\users\\greeshmanth\\anaconda3\\lib\\site-packages (from flask) (2.11.3)\n",
      "Requirement already satisfied: Werkzeug>=0.15 in c:\\users\\greeshmanth\\anaconda3\\lib\\site-packages (from flask) (2.0.2)\n",
      "Requirement already satisfied: itsdangerous>=0.24 in c:\\users\\greeshmanth\\anaconda3\\lib\\site-packages (from flask) (2.0.1)\n",
      "Requirement already satisfied: click>=5.1 in c:\\users\\greeshmanth\\anaconda3\\lib\\site-packages (from flask) (8.0.3)\n",
      "Requirement already satisfied: colorama in c:\\users\\greeshmanth\\anaconda3\\lib\\site-packages (from click>=5.1->flask) (0.4.4)\n",
      "Requirement already satisfied: MarkupSafe>=0.23 in c:\\users\\greeshmanth\\anaconda3\\lib\\site-packages (from Jinja2>=2.10.1->flask) (1.1.1)\n"
     ]
    },
    {
     "name": "stderr",
     "output_type": "stream",
     "text": [
      "WARNING: Ignoring invalid distribution -pencv-python (c:\\users\\greeshmanth\\anaconda3\\lib\\site-packages)\n",
      "WARNING: Ignoring invalid distribution -pencv-python (c:\\users\\greeshmanth\\anaconda3\\lib\\site-packages)\n",
      "WARNING: Ignoring invalid distribution -pencv-python (c:\\users\\greeshmanth\\anaconda3\\lib\\site-packages)\n",
      "WARNING: Ignoring invalid distribution -pencv-python (c:\\users\\greeshmanth\\anaconda3\\lib\\site-packages)\n",
      "WARNING: Ignoring invalid distribution -pencv-python (c:\\users\\greeshmanth\\anaconda3\\lib\\site-packages)\n",
      "WARNING: Ignoring invalid distribution -pencv-python (c:\\users\\greeshmanth\\anaconda3\\lib\\site-packages)\n"
     ]
    }
   ],
   "source": [
    "!pip install flask"
   ]
  },
  {
   "cell_type": "code",
   "execution_count": null,
   "id": "589465f7",
   "metadata": {},
   "outputs": [],
   "source": []
  }
 ],
 "metadata": {
  "kernelspec": {
   "display_name": "Python 3 (ipykernel)",
   "language": "python",
   "name": "python3"
  },
  "language_info": {
   "codemirror_mode": {
    "name": "ipython",
    "version": 3
   },
   "file_extension": ".py",
   "mimetype": "text/x-python",
   "name": "python",
   "nbconvert_exporter": "python",
   "pygments_lexer": "ipython3",
   "version": "3.9.7"
  }
 },
 "nbformat": 4,
 "nbformat_minor": 5
}

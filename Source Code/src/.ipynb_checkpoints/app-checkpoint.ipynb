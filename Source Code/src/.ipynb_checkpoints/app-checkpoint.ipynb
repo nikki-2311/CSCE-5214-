{
 "cells": [
  {
   "cell_type": "code",
   "execution_count": 5,
   "id": "cd7ce501",
   "metadata": {},
   "outputs": [
    {
     "name": "stderr",
     "output_type": "stream",
     "text": [
      "127.0.0.1 - - [02/Nov/2024 22:07:16] \"POST / HTTP/1.1\" 200 -\n"
     ]
    },
    {
     "name": "stdout",
     "output_type": "stream",
     "text": [
      "Recognized: \"word\"\n",
      "Probability: 0.9513834714889526\n",
      "None\n"
     ]
    }
   ],
   "source": [
    "from flask import Flask, render_template, request, jsonify\n",
    "import os\n",
    "import time\n",
    "from detect import main\n",
    "# import detect\n",
    "# from flask_ngrok import run_with_ngrok\n",
    "\n",
    "app = Flask(__name__)\n",
    "# run_with_ngrok(app)\n",
    "\n",
    "# Directory where images will be saved\n",
    "SAVE_DIR = r\"C:\\Users\\GREESHMANTH\\Downloads\\SimpleHTR-master\\SimpleHTR-master\\data\"\n",
    "\n",
    "@app.route('/', methods=['GET'])\n",
    "def index():\n",
    "    \n",
    "    return render_template('index.html', predicted_text=None)\n",
    "\n",
    "@app.route('/', methods=['POST'])\n",
    "def detect():\n",
    "    imageFile = request.files['image']\n",
    "    original_filename = imageFile.filename\n",
    "    safe_filename = os.path.basename(original_filename)\n",
    "    file_extension = os.path.splitext(safe_filename)[1]\n",
    "    new_filename = f\"{os.path.splitext(safe_filename)[0]}_{int(time.time())}{file_extension}\"\n",
    "    image_path = os.path.join(SAVE_DIR, new_filename)\n",
    "    imageFile.save(image_path)\n",
    "    print(image_path)\n",
    "    \n",
    "    #call your model here\n",
    "    # Replace this with actual model prediction later\n",
    "\n",
    "    # Replace this with actual model prediction laterC:/Users/GREESHMANTH/AppData/Local/Microsoft/WindowsApps/python3.9.exe -m pip install path\n",
    "    classification = main(image_path)\n",
    "    print(classification)\n",
    "\n",
    "    # Return the prediction directly for AJAX\n",
    "    return jsonify(predicted_text=classification)\n",
    "\n",
    "if __name__ == '__main__':\n",
    "    app.run(port=3000, debug=False)\n"
   ]
  },
  {
   "cell_type": "code",
   "execution_count": null,
   "id": "5b44d91e",
   "metadata": {},
   "outputs": [],
   "source": []
  }
 ],
 "metadata": {
  "kernelspec": {
   "display_name": "Python 3 (ipykernel)",
   "language": "python",
   "name": "python3"
  },
  "language_info": {
   "codemirror_mode": {
    "name": "ipython",
    "version": 3
   },
   "file_extension": ".py",
   "mimetype": "text/x-python",
   "name": "python",
   "nbconvert_exporter": "python",
   "pygments_lexer": "ipython3",
   "version": "3.9.7"
  }
 },
 "nbformat": 4,
 "nbformat_minor": 5
}
